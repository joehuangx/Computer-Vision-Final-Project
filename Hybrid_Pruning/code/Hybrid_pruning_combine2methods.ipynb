{
 "cells": [
  {
   "cell_type": "markdown",
   "metadata": {},
   "source": [
    "## Combine 2 pruning method"
   ]
  },
  {
   "cell_type": "code",
   "execution_count": 7,
   "metadata": {},
   "outputs": [],
   "source": [
    "from mmcv import Config\n",
    "from mmdet.apis import init_detector, inference_detector\n",
    "import torch\n",
    "import mmcv.runner.checkpoint\n",
    "import apr"
   ]
  },
  {
   "cell_type": "markdown",
   "metadata": {},
   "source": [
    "Load structure & weights of backbone from Torch Pruning checkpoint"
   ]
  },
  {
   "cell_type": "code",
   "execution_count": 8,
   "metadata": {},
   "outputs": [],
   "source": [
    "cfg_file = './ssd300_.py'\n",
    "cfg = Config.fromfile(cfg_file)\n",
    "\n",
    "model = init_detector(cfg_file, None, device='cpu')"
   ]
  },
  {
   "cell_type": "markdown",
   "metadata": {},
   "source": [
    "Load weights of SSDHead from Torch Pruning checkpoint"
   ]
  },
  {
   "cell_type": "code",
   "execution_count": 9,
   "metadata": {},
   "outputs": [],
   "source": [
    "m = torch.load(r'./ssd_0.0.pth')"
   ]
  },
  {
   "cell_type": "code",
   "execution_count": 10,
   "metadata": {},
   "outputs": [],
   "source": [
    "for i in range(6):\n",
    "    model.bbox_head.cls_convs[i][0].weight = m.head.classification_head.module_list[i].weight\n",
    "    model.bbox_head.cls_convs[i][0].bias = m.head.classification_head.module_list[i].bias\n",
    "    model.bbox_head.reg_convs[i][0].weight = m.head.regression_head.module_list[i].weight\n",
    "    model.bbox_head.reg_convs[i][0].bias = m.head.regression_head.module_list[i].bias"
   ]
  },
  {
   "cell_type": "markdown",
   "metadata": {},
   "source": [
    "Save the model in checkpoint"
   ]
  },
  {
   "cell_type": "code",
   "execution_count": 11,
   "metadata": {},
   "outputs": [],
   "source": [
    "mmcv.runner.save_checkpoint(model, 'sss_mm0.0.pth')"
   ]
  },
  {
   "cell_type": "markdown",
   "metadata": {},
   "source": [
    "Visualization"
   ]
  },
  {
   "cell_type": "code",
   "execution_count": 12,
   "metadata": {},
   "outputs": [],
   "source": [
    "model.CLASSES = cfg.COCO_91_CLASSES\n",
    "\n",
    "img = './image_test/000000006954.jpg'\n",
    "\n",
    "result = inference_detector(model, img)\n",
    "\n",
    "model.show_result(img, result, out_file='result.jpg')"
   ]
  }
 ],
 "metadata": {
  "kernelspec": {
   "display_name": "Python 3",
   "language": "python",
   "name": "python3"
  },
  "language_info": {
   "codemirror_mode": {
    "name": "ipython",
    "version": 3
   },
   "file_extension": ".py",
   "mimetype": "text/x-python",
   "name": "python",
   "nbconvert_exporter": "python",
   "pygments_lexer": "ipython3",
   "version": "3.9.18"
  }
 },
 "nbformat": 4,
 "nbformat_minor": 2
}
