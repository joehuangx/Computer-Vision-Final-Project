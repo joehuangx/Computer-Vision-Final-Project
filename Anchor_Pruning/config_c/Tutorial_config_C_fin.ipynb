{
 "cells": [
  {
   "cell_type": "markdown",
   "id": "e7192367",
   "metadata": {
    "pycharm": {
     "name": "#%% md\n"
    }
   },
   "source": [
    "## Imports\n",
    "\n",
    "MMDetection and our library"
   ]
  },
  {
   "cell_type": "code",
   "execution_count": 3,
   "id": "b4f07376",
   "metadata": {},
   "outputs": [],
   "source": [
    "import mmdet\n",
    "from mmcv import Config\n",
    "import pickle\n",
    "import apr\n",
    "\n",
    "import matplotlib\n",
    "import matplotlib.pyplot as plt\n",
    "from matplotlib import rcParams\n",
    "import matplotlib.patches as patches\n",
    "import matplotlib.lines as lines"
   ]
  },
  {
   "cell_type": "markdown",
   "id": "94405fc8",
   "metadata": {
    "pycharm": {
     "name": "#%% md\n"
    }
   },
   "source": [
    "Load the config file from MMDetection for SSD300"
   ]
  },
  {
   "cell_type": "code",
   "execution_count": 2,
   "id": "828f3fd5",
   "metadata": {
    "pycharm": {
     "name": "#%%\n"
    }
   },
   "outputs": [],
   "source": [
    "mmdetection_configs_root = '/home/Joe/MY/CV/CV_FINAL/anchor_pruning/TOOL/mmdetection/configs'\n",
    "original_mmdet_ssd_config = f'{mmdetection_configs_root}/ssd/ssd300_coco.py'\n",
    "\n",
    "cfg = Config.fromfile(original_mmdet_ssd_config)"
   ]
  },
  {
   "cell_type": "markdown",
   "id": "047ac397",
   "metadata": {
    "pycharm": {
     "name": "#%% md\n"
    }
   },
   "source": [
    "Redefine the anchors by using our `PreciseAnchorGenerator` that allows each individual anchor to be specified.\n",
    "\n",
    "To get the scale and ratio of every anchor of an existing MMDetection model use our tool in `tools/convert_mmdet_config.py`"
   ]
  },
  {
   "cell_type": "code",
   "execution_count": 3,
   "id": "12cc951c",
   "metadata": {
    "pycharm": {
     "name": "#%%\n"
    }
   },
   "outputs": [
    {
     "name": "stdout",
     "output_type": "stream",
     "text": [
      "Converting Anchor Generator of file /home/Joe/MY/CV/CV_FINAL/anchor_pruning/TOOL/mmdetection/configs/ssd/ssd300_coco.py\n",
      "Converting generator of the type SSDAnchorGenerator to PreciseAnchorGenerator.\n",
      "{'type': 'SSDAnchorGenerator',\n",
      " 'scale_major': False,\n",
      " 'input_size': 300,\n",
      " 'basesize_ratio_range': (0.15, 0.9),\n",
      " 'strides': [8, 16, 32, 64, 100, 300],\n",
      " 'ratios': [[2], [2, 3], [2, 3], [2, 3], [2], [2]]}\n",
      "Old config used:\n",
      "New config to be used:\n",
      "{'_delete_': True,\n",
      " 'type': 'PreciseAnchorGenerator',\n",
      " 'strides': [8, 16, 32, 64, 100, 300],\n",
      " 'scale_ratios': [[(0.07, 1.0), (0.1025, 1.0), (0.07, 0.5), (0.07, 2.0)],\n",
      "                  [(0.15, 1.0),\n",
      "                   (0.2225, 1.0),\n",
      "                   (0.15, 0.5),\n",
      "                   (0.15, 2.0),\n",
      "                   (0.15, 0.3333),\n",
      "                   (0.15, 3.0)],\n",
      "                  [(0.33, 1.0),\n",
      "                   (0.4102, 1.0),\n",
      "                   (0.33, 0.5),\n",
      "                   (0.33, 2.0),\n",
      "                   (0.33, 0.3333),\n",
      "                   (0.33, 3.0)],\n",
      "                  [(0.51, 1.0),\n",
      "                   (0.5932, 1.0),\n",
      "                   (0.51, 0.5),\n",
      "                   (0.51, 2.0),\n",
      "                   (0.51, 0.3333),\n",
      "                   (0.51, 3.0)],\n",
      "                  [(0.69, 1.0), (0.7748, 1.0), (0.69, 0.5), (0.69, 2.0)],\n",
      "                  [(0.87, 1.0), (0.9558, 1.0), (0.87, 0.5), (0.87, 2.0)]],\n",
      " 'anchor_base_size': 300,\n",
      " 'centers': [(4.0, 4.0),\n",
      "             (8.0, 8.0),\n",
      "             (16.0, 16.0),\n",
      "             (32.0, 32.0),\n",
      "             (50.0, 50.0),\n",
      "             (150.0, 150.0)]}\n"
     ]
    }
   ],
   "source": [
    "!python /home/Joe/MY/CV/CV_FINAL/anchor_pruning/TOOL/anchor_pruning/tools/convert_mmdet_config.py {original_mmdet_ssd_config}"
   ]
  },
  {
   "cell_type": "markdown",
   "id": "8a003ed3",
   "metadata": {
    "pycharm": {
     "name": "#%% md\n"
    }
   },
   "source": [
    "*The adjusted model config below is **not** compatible with the provided model checkpoint from MMDetection, the difference is in the order of anchors, we specify them in the same order as the original SSD paper which is different to the order of the MMDetection model.*"
   ]
  },
  {
   "cell_type": "code",
   "execution_count": 4,
   "id": "d3ea1566",
   "metadata": {
    "collapsed": false,
    "pycharm": {
     "name": "#%%\n"
    }
   },
   "outputs": [],
   "source": [
    "## https://github.com/Mxbonn/anchor_pruning/blob/master/configs/ssd/configuration_C.py\n",
    "\n",
    "adjusted_model_cfg = dict(\n",
    "    bbox_head=dict(\n",
    "        anchor_generator=dict(\n",
    "            _delete_=True,\n",
    "            type='PreciseAnchorGenerator',\n",
    "            strides=[8, 16, 32, 64, 100, 300],\n",
    "            scale_ratios=(\n",
    "                ((0.07, 1.0),),\n",
    "                ((0.15, 1.0), (0.15, 3.0), (0.224, 1.0)),\n",
    "                ((0.33, 1.0), (0.33, 2.0), (0.33, 3.0), (0.33, 1/3), (0.4102, 1.0)),\n",
    "                ((0.51, 3.0), (0.51, 1/3), (0.5932, 1.0)),\n",
    "                ((0.69, 2.0), (0.69, 0.5)),\n",
    "                ((0.9557, 1.0),)\n",
    "            ),\n",
    "            anchor_base_size=300,\n",
    "            centers=((4, 4), (8, 8), (16, 16), (32, 32), (50, 50), (150, 150))\n",
    "        )\n",
    "    )\n",
    ")\n",
    "cfg.merge_from_dict(adjusted_model_cfg)"
   ]
  },
  {
   "cell_type": "markdown",
   "id": "b4a42861",
   "metadata": {
    "collapsed": false,
    "pycharm": {
     "name": "#%% md\n"
    }
   },
   "source": [
    "The required input for our anchor pruning script is a directory with a checkpoint of the model named `best_checkpoint.pth` and a single `.py` config file. So lets create that:"
   ]
  },
  {
   "cell_type": "code",
   "execution_count": 5,
   "id": "aea10570",
   "metadata": {
    "collapsed": false,
    "pycharm": {
     "name": "#%%\n"
    }
   },
   "outputs": [],
   "source": [
    "#! mkdir pruning_directory"
   ]
  },
  {
   "cell_type": "code",
   "execution_count": 6,
   "id": "08926a64",
   "metadata": {},
   "outputs": [],
   "source": [
    "# Download ssd_baseline.pth from https://cloud.ilabt.imec.be/index.php/s/ERxYsRMidPEgNwT\n",
    "# ! cp /home/Joe/MY/anchor/MODEL/ssd_baseline.pth /home/Joe/MY/anchor/pruning_directory/best_checkpoint.pth\n",
    "# ! cp /home/Joe/MY/anchor/anchor_pruning/configs/ssd/baseline.py /home/Joe/MY/anchor/pruning_directory"
   ]
  },
  {
   "cell_type": "markdown",
   "id": "38f18053",
   "metadata": {
    "collapsed": false,
    "pycharm": {
     "name": "#%% md\n"
    }
   },
   "source": [
    "And then run our tool:"
   ]
  },
  {
   "cell_type": "code",
   "execution_count": 7,
   "id": "c511ba08",
   "metadata": {
    "collapsed": false,
    "pycharm": {
     "name": "#%%\n"
    }
   },
   "outputs": [
    {
     "name": "stdout",
     "output_type": "stream",
     "text": [
      "loading annotations into memory...\n",
      "Done (t=0.23s)\n",
      "creating index...\n",
      "index created!\n",
      "{'type': 'SingleStageDetector', 'backbone': {'type': 'SSDVGG', 'depth': 16, 'with_last_pool': False, 'ceil_mode': True, 'out_indices': (3, 4), 'out_feature_indices': (22, 34), 'init_cfg': {'type': 'Pretrained', 'checkpoint': 'open-mmlab://vgg16_caffe'}}, 'neck': {'type': 'SSDNeck', 'in_channels': (512, 1024), 'out_channels': (512, 1024, 512, 256, 256, 256), 'level_strides': (2, 2, 1, 1), 'level_paddings': (1, 1, 0, 0), 'l2_norm_scale': 20}, 'bbox_head': {'type': 'SSDHead', 'in_channels': (512, 1024, 512, 256, 256, 256), 'num_classes': 80, 'anchor_generator': {'type': 'PreciseAnchorGenerator', 'strides': [8, 16, 32, 64, 100, 300], 'scale_ratios': (((0.07, 1.0),), ((0.15, 1.0), (0.15, 3.0), (0.224, 1.0)), ((0.33, 1.0), (0.33, 2.0), (0.33, 3.0), (0.33, 0.3333333333333333), (0.4102, 1.0)), ((0.51, 3.0), (0.51, 0.3333333333333333), (0.5932, 1.0)), ((0.69, 2.0), (0.69, 0.5)), ((0.9557, 1.0),)), 'anchor_base_size': 300, 'centers': ((4, 4), (8, 8), (16, 16), (32, 32), (50, 50), (150, 150))}, 'bbox_coder': {'type': 'DeltaXYWHBBoxCoder', 'target_means': [0.0, 0.0, 0.0, 0.0], 'target_stds': [0.1, 0.1, 0.2, 0.2]}}, 'train_cfg': {'assigner': {'type': 'MaxIoUAssigner', 'pos_iou_thr': 0.5, 'neg_iou_thr': 0.5, 'min_pos_iou': 0.0, 'ignore_iof_thr': -1, 'gt_max_assign_all': False}, 'smoothl1_beta': 1.0, 'allowed_border': -1, 'pos_weight': -1, 'neg_pos_ratio': 3, 'debug': False}, 'test_cfg': {'nms_pre': 1000, 'nms': {'type': 'nms', 'iou_threshold': 0.45}, 'min_bbox_size': 0, 'score_thr': 0.02, 'max_per_img': 200}, 'pretrained': None}\n",
      "load checkpoint from local path: /home/Joe/MY/CV/CV_FINAL/anchor_pruning/pruning_directory/best_checkpoint.pth\n",
      "/home/Joe/MY/CV/CV_FINAL/anchor_pruning/TOOL/mmdetection/mmdet/models/dense_heads/anchor_head.py:123: UserWarning: DeprecationWarning: anchor_generator is deprecated, please use \"prior_generator\" instead\n",
      "  warnings.warn('DeprecationWarning: anchor_generator is deprecated, '\n",
      "/home/Joe/MY/CV/CV_FINAL/anchor_pruning/TOOL/mmdetection/mmdet/core/anchor/anchor_generator.py:333: UserWarning: ``grid_anchors`` would be deprecated soon. Please use ``grid_priors`` \n",
      "  warnings.warn('``grid_anchors`` would be deprecated soon. '\n",
      "/home/Joe/MY/CV/CV_FINAL/anchor_pruning/TOOL/mmdetection/mmdet/core/anchor/anchor_generator.py:369: UserWarning: ``single_level_grid_anchors`` would be deprecated soon. Please use ``single_level_grid_priors`` \n",
      "  warnings.warn(\n",
      "^C\n",
      "Traceback (most recent call last):\n",
      "  File \"/home/Joe/MY/CV/CV_FINAL/anchor_pruning/TOOL/anchor_pruning/tools/prune_anchors.py\", line 64, in <module>\n",
      "    main(args)\n",
      "  File \"/home/Joe/MY/CV/CV_FINAL/anchor_pruning/TOOL/anchor_pruning/tools/prune_anchors.py\", line 26, in main\n",
      "    tree = apr.core.bbox_optim.AnchorPruningTree(args.input)\n",
      "  File \"/home/Joe/MY/CV/CV_FINAL/anchor_pruning/TOOL/anchor_pruning/apr/core/bbox_optim/anchor_pruning.py\", line 353, in __init__\n",
      "    self.mlvl_scores_per_img.append(mlvl_scores.cpu().detach())\n",
      "KeyboardInterrupt\n"
     ]
    }
   ],
   "source": [
    "! python /home/Joe/MY/CV/CV_FINAL/anchor_pruning/TOOL/anchor_pruning/tools/prune_anchors.py -i /home/Joe/MY/CV/CV_FINAL/anchor_pruning/pruning_directory -o /home/Joe/MY/CV/CV_FINAL/anchor_pruning/pruning_directory/pruning_results.pickle"
   ]
  },
  {
   "cell_type": "code",
   "execution_count": 5,
   "id": "8bb44296",
   "metadata": {
    "collapsed": false,
    "pycharm": {
     "name": "#%%\n"
    }
   },
   "outputs": [],
   "source": [
    "with open('/home/Joe/MY/CV/CV_FINAL/anchor_pruning/pruning_directory_config_c_fin/pruning_results.pickle', 'rb') as map_results_file:\n",
    "    results = pickle.load(map_results_file)\n",
    "results['pareto_front'] = list(reversed(sorted(results['pareto_front'], key=lambda k: k['mAP']))) # sort pareto front on mAP"
   ]
  },
  {
   "cell_type": "markdown",
   "id": "bbdd1829",
   "metadata": {
    "collapsed": false,
    "pycharm": {
     "name": "#%% md\n"
    }
   },
   "source": [
    "`results` is a dictionary that consists of a list of the pareto front of anchor configurations that are optimal to prune.\n",
    "Based on the mAP and the #mac operation one can choose which pruned configuration one would like to use.\n",
    "Below we plot the pareto frontier of pruned configurations."
   ]
  },
  {
   "cell_type": "code",
   "execution_count": 7,
   "id": "dbdcb2fa",
   "metadata": {
    "collapsed": false,
    "pycharm": {
     "name": "#%%\n"
    }
   },
   "outputs": [
    {
     "data": {
      "image/png": "[encoded data removed]",
      "text/plain": [
       "<Figure size 500x354.331 with 1 Axes>"
      ]
     },
     "metadata": {},
     "output_type": "display_data"
    }
   ],
   "source": [
    "fig = plt.figure(1, figsize=(5,3.54331))\n",
    "ax = plt.subplot(111)\n",
    "ax.set_xlabel('FLOPs')\n",
    "ax.set_ylabel('COCO mAP')\n",
    "\n",
    "ax.plot([node['macs'] for node in results['pareto_front']], [node['mAP'] for node in results['pareto_front']],\n",
    "       linestyle='--', marker='*', color='orange', markerfacecolor='orange', markersize=6)\n",
    "legend_patches =  [patches.Patch(color='orange', label='Pareto Frontier')]\n",
    "ax.set_xlabel('FLOPs')\n",
    "ax.set_ylabel('COCO mAP')\n",
    "ax.grid(linestyle=':', alpha=0.5)\n",
    "plt.legend(handles=legend_patches)\n",
    "plt.tight_layout()\n",
    "plt.show()"
   ]
  },
  {
   "cell_type": "code",
   "execution_count": 8,
   "id": "e85b1b42",
   "metadata": {
    "collapsed": false,
    "pycharm": {
     "name": "#%%\n"
    }
   },
   "outputs": [
    {
     "name": "stdout",
     "output_type": "stream",
     "text": [
      "{10, 4} 0.252 1584149760\n",
      "{4} 0.252 1589045760\n",
      "set() 0.252 1628213760\n",
      "{9, 4, 5} 0.251 1544981760\n",
      "{4, 5} 0.251 1549877760\n",
      "{9, 10, 4, 5} 0.25 1540085760\n",
      "{4, 5, 9, 10, 12} 0.249 1538323200\n",
      "{9, 4, 5, 7} 0.248 1505813760\n",
      "{4, 5, 7} 0.248 1510709760\n",
      "{4, 5, 7, 9, 13} 0.247 1504051200\n",
      "{2} 0.246 1345420800\n",
      "{2, 10, 4, 5} 0.245 1262188800\n",
      "{2, 4, 5} 0.245 1267084800\n",
      "{2, 4} 0.245 1306252800\n",
      "{2, 4, 5, 9, 10} 0.244 1257292800\n",
      "{2, 4, 5, 9, 10, 12} 0.243 1255530240\n",
      "{2, 4, 5, 7} 0.242 1227916800\n",
      "{2, 4, 5, 7, 9} 0.241 1223020800\n",
      "{2, 4, 5, 7, 9, 10} 0.24 1218124800\n",
      "{2, 4, 5, 7, 9, 10, 12} 0.239 1216362240\n",
      "{2, 3} 0.238 1062627840\n",
      "{3, 10, 2, 5} 0.237 1018563840\n",
      "{2, 3, 5} 0.237 1023459840\n",
      "{2, 3, 5, 9, 10} 0.236 1013667840\n",
      "{2, 3, 5, 9, 10, 12} 0.235 1011905280\n",
      "{2, 3, 5, 8, 10} 0.234 979395840\n",
      "{2, 3, 5, 7} 0.234 984291840\n",
      "{2, 3, 5, 8, 9, 10} 0.233 974499840\n",
      "{2, 3, 5, 8, 9, 10, 12} 0.232 972737280\n",
      "{2, 3, 5, 7, 8} 0.231 945123840\n",
      "{2, 3, 5, 7, 8, 9} 0.23 940227840\n",
      "{2, 3, 5, 7, 8, 9, 10} 0.229 935331840\n",
      "{2, 3, 5, 7, 8, 9, 10, 12} 0.228 933569280\n",
      "{2, 3, 5, 7, 8, 9, 10, 12, 13} 0.227 931806720\n",
      "{2, 3, 5, 6, 7, 8} 0.222 905955840\n",
      "{2, 3, 5, 6, 7, 8, 12} 0.221 904193280\n",
      "{2, 3, 5, 6, 7, 8, 10, 12} 0.22 899297280\n",
      "{2, 3, 5, 6, 7, 8, 10} 0.22 901059840\n",
      "{0, 2} 0.219 779834880\n",
      "{0, 2, 4, 5, 10} 0.218 696602880\n",
      "{0, 2, 4, 5} 0.218 701498880\n",
      "{0, 2, 4} 0.218 740666880\n",
      "{0, 2, 4, 5, 9, 10} 0.217 691706880\n",
      "{0, 2, 4, 5, 9, 10, 12} 0.216 689944320\n",
      "{0, 2, 4, 5, 7} 0.215 662330880\n",
      "{0, 2, 4, 5, 7, 9, 13} 0.214 655672320\n",
      "{0, 2, 4, 5, 7, 9} 0.214 657434880\n",
      "{0, 2, 4, 5, 7, 9, 10} 0.213 652538880\n",
      "{0, 2, 4, 5, 7, 9, 10, 12} 0.212 650776320\n",
      "{0, 9, 2, 3} 0.211 492145920\n",
      "{0, 2, 3} 0.211 497041920\n",
      "{0, 2, 3, 5, 9, 10} 0.21 448081920\n",
      "{0, 2, 3, 5, 9} 0.21 452977920\n",
      "{0, 2, 3, 5} 0.21 457873920\n",
      "{0, 2, 3, 5, 9, 10, 12} 0.209 446319360\n",
      "{0, 2, 3, 5, 8} 0.208 418705920\n",
      "{0, 2, 3, 5, 8, 9, 10} 0.207 408913920\n",
      "{0, 2, 3, 5, 7, 9} 0.207 413809920\n",
      "{0, 2, 3, 5, 8, 9, 10, 12} 0.206 407151360\n",
      "{0, 2, 3, 5, 8, 9, 10, 12, 13} 0.205 405388800\n",
      "{0, 2, 3, 5, 7, 8, 9} 0.204 374641920\n",
      "{0, 2, 3, 5, 7, 8} 0.204 379537920\n",
      "{0, 2, 3, 5, 7, 8, 9, 12} 0.203 372879360\n",
      "{0, 2, 3, 5, 7, 8, 9, 10, 12} 0.202 367983360\n",
      "{0, 2, 3, 5, 7, 8, 9, 10} 0.202 369745920\n",
      "{0, 2, 3, 5, 7, 8, 9, 10, 12, 13} 0.201 366220800\n"
     ]
    }
   ],
   "source": [
    "for node in results['pareto_front']:\n",
    "    print(node['removed_anchors'], node['mAP'], node['macs'])"
   ]
  },
  {
   "cell_type": "markdown",
   "id": "a730ba20",
   "metadata": {
    "collapsed": false,
    "pycharm": {
     "name": "#%% md\n"
    }
   },
   "source": [
    "To convert these `removed_anchors` back to a configuration you remove the anchors corresponding to the indices indicated above.\n",
    "For example Configuration A from the paper corresponds with the pruned configuration with the highest accuracy and becomes:\n",
    "\n",
    "configuration A = {5, 7, 13, 16, 17, 19, 22, 25, 26, 27, 28})\n",
    "\n",
    "scale_ratios=(\n",
    "\n",
    "((0.07, 1.0), (0.07, 2.0), (0.07, 0.5), (0.1024, 1.0)),\n",
    "\n",
    "((0.15, 1.0), ~~(0.15, 2.0)~~, (0.15, 3.0), ~~(0.15, 0.5)~~, (0.15, 1 / 3), (0.224, 1.0)),\n",
    "\n",
    "((0.33, 1.0), (0.33, 2.0), (0.33, 3.0), ~~(0.33, 0.5)~~, (0.33, 1 / 3), (0.4102, 1.0)),\n",
    "\n",
    "(~~(0.51, 1.0), (0.51, 2.0)~~, (0.51, 3.0), ~~(0.51, 0.5)~~, (0.51, 1 / 3), (0.5932, 1.0)),\n",
    "\n",
    "(~~(0.69, 1.0)~~, (0.69, 2.0), (0.69, 0.5), ~~(0.7747, 1.0)~~),\n",
    "\n",
    "(~~(0.87, 1.0), (0.87, 2.0), (0.87, 0.5),~~ (0.9557, 1.0)),\n",
    "),"
   ]
  },
  {
   "cell_type": "code",
   "execution_count": null,
   "id": "4e91844a",
   "metadata": {
    "collapsed": false,
    "pycharm": {
     "name": "#%%\n"
    }
   },
   "outputs": [],
   "source": [
    "adjusted_model_cfg = dict(\n",
    "    model=dict(\n",
    "        bbox_head=dict(\n",
    "            anchor_generator=dict(\n",
    "                _delete_=True,\n",
    "                type='PreciseAnchorGenerator',\n",
    "                strides=[8, 16, 32, 64, 100, 300],\n",
    "                scale_ratios=(\n",
    "                    ((0.07, 1.0), (0.07, 2.0), (0.07, 0.5), (0.1024, 1.0)),\n",
    "                    ((0.15, 1.0), (0.15, 3.0), (0.15, 1/3), (0.224, 1.0)),\n",
    "                    ((0.33, 1.0), (0.33, 2.0), (0.33, 3.0), (0.33, 1/3), (0.4102, 1.0)),\n",
    "                    ((0.51, 3.0), (0.51, 1/3), (0.5932, 1.0)),\n",
    "                    ((0.69, 2.0), (0.69, 0.5)),\n",
    "                    ((0.9557, 1.0))\n",
    "                    ),\n",
    "                anchor_base_size=300,\n",
    "                centers=((4, 4), (8, 8), (16, 16), (32, 32), (50, 50), (150, 150))\n",
    "            )\n",
    "        )\n",
    "    )\n",
    ")\n",
    "cfg.merge_from_dict(adjusted_model_cfg)"
   ]
  },
  {
   "cell_type": "markdown",
   "id": "8c9f36f9",
   "metadata": {
    "pycharm": {
     "name": "#%% md\n"
    }
   },
   "source": [
    "To train these new configurations with MMDetection it is as simple as adding `import apr` to the scripts of MMDetection. Or you can use the scripts provided in our tools directory, which have done exactly that."
   ]
  }
 ],
 "metadata": {
  "jupytext": {
   "text_representation": {
    "extension": ".py",
    "format_name": "light",
    "format_version": "1.5",
    "jupytext_version": "1.9.0"
   }
  },
  "kernelspec": {
   "display_name": "Python 3 (ipykernel)",
   "language": "python",
   "name": "python3"
  },
  "language_info": {
   "codemirror_mode": {
    "name": "ipython",
    "version": 3
   },
   "file_extension": ".py",
   "mimetype": "text/x-python",
   "name": "python",
   "nbconvert_exporter": "python",
   "pygments_lexer": "ipython3",
   "version": "3.9.18"
  }
 },
 "nbformat": 4,
 "nbformat_minor": 5
}
