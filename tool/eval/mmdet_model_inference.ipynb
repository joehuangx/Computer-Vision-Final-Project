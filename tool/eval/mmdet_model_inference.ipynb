{
 "cells": [
  {
   "cell_type": "code",
   "execution_count": 1,
   "metadata": {},
   "outputs": [],
   "source": [
    "from mmcv import Config"
   ]
  },
  {
   "cell_type": "code",
   "execution_count": 3,
   "metadata": {},
   "outputs": [],
   "source": [
    "cfg_file = '/home/Joe/MY/CV/CV_FINAL/anchor_pruning/TOOL/mmdetection/configs/ssd/ssd300_coco.py'\n",
    "cfg = Config.fromfile(cfg_file)\n",
    "\n",
    "load_from='/home/Joe/MY/CV/CV_FINAL/anchor_pruning/TOOL/MODEL/ssd_baseline.pth'"
   ]
  },
  {
   "cell_type": "code",
   "execution_count": 5,
   "metadata": {},
   "outputs": [
    {
     "name": "stdout",
     "output_type": "stream",
     "text": [
      "load checkpoint from local path: /home/Joe/MY/CV/CV_FINAL/anchor_pruning/TOOL/MODEL/ssd_baseline.pth\n"
     ]
    },
    {
     "name": "stderr",
     "output_type": "stream",
     "text": [
      "/home/Joe/MY/CV/CV_FINAL/anchor_pruning/TOOL/mmdetection/mmdet/apis/inference.py:51: UserWarning: Class names are not saved in the checkpoint's meta data, use COCO classes by default.\n",
      "  warnings.warn('Class names are not saved in the checkpoint\\'s '\n",
      "/home/Joe/MY/CV/CV_FINAL/anchor_pruning/TOOL/mmdetection/mmdet/datasets/utils.py:66: UserWarning: \"ImageToTensor\" pipeline is replaced by \"DefaultFormatBundle\" for batch inference. It is recommended to manually replace it in the test data pipeline in your config file.\n",
      "  warnings.warn(\n"
     ]
    }
   ],
   "source": [
    "from mmdet.apis import init_detector, inference_detector\n",
    "\n",
    "# build the model from a config file and a checkpoint file\n",
    "model = init_detector(cfg_file, load_from, device='cuda:0')\n",
    "#model.CLASSES = cfg.CLASSES\n",
    "\n",
    "# test a single image and show the results\n",
    "img = '/home/Joe/MY/CV/CV_FINAL/anchor_pruning/data/coco/val2017/000000000632.jpg'\n",
    "result = inference_detector(model, img)\n",
    "\n",
    "model.show_result(img, result, out_file='result.jpg')"
   ]
  }
 ],
 "metadata": {
  "kernelspec": {
   "display_name": "Python 3",
   "language": "python",
   "name": "python3"
  },
  "language_info": {
   "codemirror_mode": {
    "name": "ipython",
    "version": 3
   },
   "file_extension": ".py",
   "mimetype": "text/x-python",
   "name": "python",
   "nbconvert_exporter": "python",
   "pygments_lexer": "ipython3",
   "version": "3.9.18"
  }
 },
 "nbformat": 4,
 "nbformat_minor": 2
}
