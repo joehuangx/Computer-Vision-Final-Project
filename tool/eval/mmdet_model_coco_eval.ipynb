{
 "cells": [
  {
   "cell_type": "code",
   "execution_count": 6,
   "metadata": {},
   "outputs": [],
   "source": [
    "import apr"
   ]
  },
  {
   "cell_type": "code",
   "execution_count": 8,
   "metadata": {},
   "outputs": [
    {
     "name": "stdout",
     "output_type": "stream",
     "text": [
      "/home/Joe/MY/CV/CV_FINAL/anchor_pruning/TOOL/mmdetection/mmdet/utils/setup_env.py:38: UserWarning: Setting OMP_NUM_THREADS environment variable for each process to be 1 in default, to avoid your system being overloaded, please further tune the variable for optimal performance in your application as needed.\n",
      "  warnings.warn(\n",
      "/home/Joe/MY/CV/CV_FINAL/anchor_pruning/TOOL/mmdetection/mmdet/utils/setup_env.py:48: UserWarning: Setting MKL_NUM_THREADS environment variable for each process to be 1 in default, to avoid your system being overloaded, please further tune the variable for optimal performance in your application as needed.\n",
      "  warnings.warn(\n",
      "loading annotations into memory...\n",
      "Done (t=0.23s)\n",
      "creating index...\n",
      "index created!\n",
      "load checkpoint from local path: /home/Joe/MY/CV/CV_FINAL/anchor_pruning/TOOL/MODEL/ssd_baseline.pth\n",
      "[>>>>>>>>>>>>>>>>>>>>>>>>>>] 5000/5000, 170.5 task/s, elapsed: 29s, ETA:     0s\n",
      "Evaluating bbox...\n",
      "Loading and preparing results...\n",
      "DONE (t=1.13s)\n",
      "creating index...\n",
      "index created!\n",
      "Running per image evaluation...\n",
      "Evaluate annotation type *bbox*\n",
      "DONE (t=21.37s).\n",
      "Accumulating evaluation results...\n",
      "DONE (t=8.11s).\n",
      "\n",
      " Average Precision  (AP) @[ IoU=0.50:0.95 | area=   all | maxDets=100 ] = 0.256\n",
      " Average Precision  (AP) @[ IoU=0.50      | area=   all | maxDets=1000 ] = 0.434\n",
      " Average Precision  (AP) @[ IoU=0.75      | area=   all | maxDets=1000 ] = 0.264\n",
      " Average Precision  (AP) @[ IoU=0.50:0.95 | area= small | maxDets=1000 ] = 0.066\n",
      " Average Precision  (AP) @[ IoU=0.50:0.95 | area=medium | maxDets=1000 ] = 0.278\n",
      " Average Precision  (AP) @[ IoU=0.50:0.95 | area= large | maxDets=1000 ] = 0.428\n",
      " Average Recall     (AR) @[ IoU=0.50:0.95 | area=   all | maxDets=100 ] = 0.374\n",
      " Average Recall     (AR) @[ IoU=0.50:0.95 | area=   all | maxDets=300 ] = 0.375\n",
      " Average Recall     (AR) @[ IoU=0.50:0.95 | area=   all | maxDets=1000 ] = 0.375\n",
      " Average Recall     (AR) @[ IoU=0.50:0.95 | area= small | maxDets=1000 ] = 0.116\n",
      " Average Recall     (AR) @[ IoU=0.50:0.95 | area=medium | maxDets=1000 ] = 0.418\n",
      " Average Recall     (AR) @[ IoU=0.50:0.95 | area= large | maxDets=1000 ] = 0.584\n",
      "\n",
      "OrderedDict([('bbox_mAP', 0.256), ('bbox_mAP_50', 0.434), ('bbox_mAP_75', 0.264), ('bbox_mAP_s', 0.066), ('bbox_mAP_m', 0.278), ('bbox_mAP_l', 0.428), ('bbox_mAP_copypaste', '0.256 0.434 0.264 0.066 0.278 0.428')])\n"
     ]
    }
   ],
   "source": [
    "!python /home/Joe/MY/CV/CV_FINAL/anchor_pruning/TOOL/anchor_pruning/tools/mmdet_test.py /home/Joe/MY/CV/CV_FINAL/now/baseline.py /home/Joe/MY/CV/CV_FINAL/anchor_pruning/TOOL/MODEL/ssd_baseline.pth --eval bbox"
   ]
  }
 ],
 "metadata": {
  "kernelspec": {
   "display_name": "anchor",
   "language": "python",
   "name": "python3"
  },
  "language_info": {
   "codemirror_mode": {
    "name": "ipython",
    "version": 3
   },
   "file_extension": ".py",
   "mimetype": "text/x-python",
   "name": "python",
   "nbconvert_exporter": "python",
   "pygments_lexer": "ipython3",
   "version": "3.9.18"
  }
 },
 "nbformat": 4,
 "nbformat_minor": 2
}
